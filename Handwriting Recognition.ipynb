{
 "cells": [
  {
   "cell_type": "code",
   "execution_count": 5,
   "metadata": {},
   "outputs": [
    {
     "name": "stdout",
     "output_type": "stream",
     "text": [
      "2.0.0-alpha0\n",
      "2.3.1\n"
     ]
    }
   ],
   "source": [
    "import tensorflow as tf\n",
    "import keras\n",
    "from keras.datasets import mnist\n",
    "import cv2\n",
    "import numpy as np\n",
    "print(tf.__version__)\n",
    "print(keras.__version__)"
   ]
  },
  {
   "cell_type": "code",
   "execution_count": 6,
   "metadata": {},
   "outputs": [
    {
     "name": "stdout",
     "output_type": "stream",
     "text": [
      "(60000, 28, 28)\n",
      "(10000, 28, 28)\n",
      "(60000,)\n",
      "(10000,)\n"
     ]
    }
   ],
   "source": [
    "(x_train, y_train), (x_test, y_test)= mnist.load_data()\n",
    "##gray scale images doesnot have colour depth\n",
    "print(x_train.shape)\n",
    "print(x_test.shape)\n",
    "print(y_train.shape)\n",
    "print(y_test.shape)"
   ]
  },
  {
   "cell_type": "code",
   "execution_count": 7,
   "metadata": {},
   "outputs": [],
   "source": [
    "'''displaying the dataset'''\n",
    "for i in range(0,6):\n",
    "    random=np.random.randint(0, len(x_train))\n",
    "    img= x_train[random]\n",
    "    window='Random Sample '+str(i)\n",
    "    cv2.imshow(window,img)\n",
    "    cv2.waitKey(0)\n",
    "cv2.destroyAllWindows()"
   ]
  },
  {
   "cell_type": "code",
   "execution_count": 8,
   "metadata": {},
   "outputs": [
    {
     "name": "stdout",
     "output_type": "stream",
     "text": [
      "(60000, 28, 28, 1)\n",
      "(10000, 28, 28, 1)\n"
     ]
    }
   ],
   "source": [
    "'''Preparing dataset'''\n",
    "rows=x_train[0].shape[0]\n",
    "columns=x_train[0].shape[1]\n",
    "input_shape=[rows, columns, 1] ##input shape with colour depth for gray scale image\n",
    "\n",
    "##changing shape of data to required shape for Keras by changing shape from (60000,28,28) to (60000,28,28,1)\n",
    "x_train=x_train.reshape(x_train.shape[0], rows, columns, 1)\n",
    "x_test=x_test.reshape(x_test.shape[0], rows, columns, 1)\n",
    "\n",
    "##changing input data type to float32 data type\n",
    "x_train= x_train.astype('float32')\n",
    "x_test=x_test.astype('float32')\n",
    "\n",
    "##normalizing data to change range from (0 to 255) to (0 to 1)\n",
    "x_train/=255\n",
    "x_test/=255\n",
    "\n",
    "print(x_train.shape)\n",
    "print(x_test.shape)"
   ]
  },
  {
   "cell_type": "code",
   "execution_count": 9,
   "metadata": {},
   "outputs": [
    {
     "name": "stdout",
     "output_type": "stream",
     "text": [
      "No. of classes  are: 10\n"
     ]
    }
   ],
   "source": [
    "'''One hot Encoding for the labels'''\n",
    "from keras.utils import np_utils\n",
    "y_train= np_utils.to_categorical(y_train)\n",
    "y_test= np_utils.to_categorical(y_test)\n",
    "print(\"No. of classes  are: \"+ str(y_test.shape[1]))\n",
    "num_classes= y_test.shape[1]\n",
    "num_pixels= x_train.shape[1]*x_train.shape[2]"
   ]
  },
  {
   "cell_type": "code",
   "execution_count": 10,
   "metadata": {},
   "outputs": [
    {
     "data": {
      "text/plain": [
       "array([0., 0., 0., 0., 0., 1., 0., 0., 0., 0.], dtype=float32)"
      ]
     },
     "execution_count": 10,
     "metadata": {},
     "output_type": "execute_result"
    }
   ],
   "source": [
    "y_train[0]"
   ]
  },
  {
   "cell_type": "code",
   "execution_count": 11,
   "metadata": {},
   "outputs": [
    {
     "name": "stdout",
     "output_type": "stream",
     "text": [
      "Model: \"sequential_1\"\n",
      "_________________________________________________________________\n",
      "Layer (type)                 Output Shape              Param #   \n",
      "=================================================================\n",
      "conv2d_1 (Conv2D)            (None, 26, 26, 32)        320       \n",
      "_________________________________________________________________\n",
      "conv2d_2 (Conv2D)            (None, 24, 24, 64)        18496     \n",
      "_________________________________________________________________\n",
      "max_pooling2d_1 (MaxPooling2 (None, 12, 12, 64)        0         \n",
      "_________________________________________________________________\n",
      "dropout_1 (Dropout)          (None, 12, 12, 64)        0         \n",
      "_________________________________________________________________\n",
      "flatten_1 (Flatten)          (None, 9216)              0         \n",
      "_________________________________________________________________\n",
      "dense_1 (Dense)              (None, 128)               1179776   \n",
      "_________________________________________________________________\n",
      "dropout_2 (Dropout)          (None, 128)               0         \n",
      "_________________________________________________________________\n",
      "dense_2 (Dense)              (None, 10)                1290      \n",
      "=================================================================\n",
      "Total params: 1,199,882\n",
      "Trainable params: 1,199,882\n",
      "Non-trainable params: 0\n",
      "_________________________________________________________________\n",
      "None\n"
     ]
    }
   ],
   "source": [
    "'''creating the model'''\n",
    "from keras.models import Sequential\n",
    "from keras.layers import Conv2D, MaxPooling2D, Dropout, Flatten, Dense\n",
    "from keras.optimizers import SGD\n",
    "model= Sequential()\n",
    "model.add(Conv2D(32, kernel_size=(3,3), activation='relu', input_shape=input_shape))\n",
    "model.add(Conv2D(64, kernel_size=(3,3), activation='relu'))\n",
    "model.add(MaxPooling2D(pool_size=(2,2)))\n",
    "model.add(Dropout(0.25))\n",
    "model.add(Flatten())\n",
    "model.add(Dense(128, activation='relu'))\n",
    "model.add(Dropout(0.5))\n",
    "model.add(Dense(num_classes, activation='softmax'))\n",
    "model.compile(loss=\"categorical_crossentropy\", optimizer= SGD(0.01), metrics= ['accuracy']) ##sgd- stochastic gradient descent\n",
    "print(model.summary())"
   ]
  },
  {
   "cell_type": "code",
   "execution_count": 12,
   "metadata": {},
   "outputs": [
    {
     "name": "stdout",
     "output_type": "stream",
     "text": [
      "Train on 60000 samples, validate on 10000 samples\n",
      "Epoch 1/10\n",
      "60000/60000 [==============================] - 91s 2ms/step - loss: 0.5914 - accuracy: 0.8153 - val_loss: 0.2032 - val_accuracy: 0.9426\n",
      "Epoch 2/10\n",
      "60000/60000 [==============================] - 105s 2ms/step - loss: 0.2948 - accuracy: 0.9104 - val_loss: 0.1442 - val_accuracy: 0.9569\n",
      "Epoch 3/10\n",
      "60000/60000 [==============================] - 105s 2ms/step - loss: 0.2249 - accuracy: 0.9324 - val_loss: 0.1057 - val_accuracy: 0.9696\n",
      "Epoch 4/10\n",
      "60000/60000 [==============================] - 106s 2ms/step - loss: 0.1748 - accuracy: 0.9472 - val_loss: 0.0851 - val_accuracy: 0.9735\n",
      "Epoch 5/10\n",
      "60000/60000 [==============================] - 113s 2ms/step - loss: 0.1423 - accuracy: 0.9575 - val_loss: 0.0694 - val_accuracy: 0.9785\n",
      "Epoch 6/10\n",
      "60000/60000 [==============================] - 108s 2ms/step - loss: 0.1238 - accuracy: 0.9635 - val_loss: 0.0608 - val_accuracy: 0.9799\n",
      "Epoch 7/10\n",
      "60000/60000 [==============================] - 111s 2ms/step - loss: 0.1109 - accuracy: 0.9667 - val_loss: 0.0547 - val_accuracy: 0.9825\n",
      "Epoch 8/10\n",
      "60000/60000 [==============================] - 111s 2ms/step - loss: 0.0980 - accuracy: 0.9706 - val_loss: 0.0519 - val_accuracy: 0.9835\n",
      "Epoch 9/10\n",
      "60000/60000 [==============================] - 110s 2ms/step - loss: 0.0908 - accuracy: 0.9726 - val_loss: 0.0482 - val_accuracy: 0.9836\n",
      "Epoch 10/10\n",
      "60000/60000 [==============================] - 109s 2ms/step - loss: 0.0867 - accuracy: 0.9737 - val_loss: 0.0444 - val_accuracy: 0.9858\n",
      "10000/10000 [==============================] - 3s 270us/step\n",
      "Test loss:  0.044428189511364326\n",
      "Test accuracy:  0.98580002784729\n"
     ]
    }
   ],
   "source": [
    "'''Training the model'''\n",
    "epochs=10\n",
    "\n",
    "history= model.fit(x_train, y_train, epochs=epochs, batch_size=32, validation_data=(x_test, y_test))\n",
    "loss= model.evaluate(x_test, y_test, batch_size=128)\n",
    "print(\"Test loss: \", loss[0])\n",
    "print(\"Test accuracy: \", loss[1])"
   ]
  },
  {
   "cell_type": "code",
   "execution_count": 13,
   "metadata": {},
   "outputs": [
    {
     "data": {
      "image/png": "[encoded data removed]",
      "text/plain": [
       "<Figure size 432x288 with 1 Axes>"
      ]
     },
     "metadata": {
      "needs_background": "light"
     },
     "output_type": "display_data"
    }
   ],
   "source": [
    "'''Plotting accuracy'''\n",
    "import matplotlib.pyplot as plt\n",
    "\n",
    "history_dic=history.history\n",
    "loss_values=history_dic['loss']\n",
    "val_loss=history_dic['val_loss']\n",
    "epochs=range(1,(len(loss_values)+1))\n",
    "\n",
    "line1=plt.plot(epochs, val_loss, label= 'Validation/Test Loss')\n",
    "line2=plt.plot(epochs, loss_values, label= 'Training Loss')\n",
    "plt.setp(line1, linewidth=2.0, marker='+', markersize=10)\n",
    "plt.setp(line2, linewidth=2.0, marker='4', markersize=10)\n",
    "plt.xlabel('Epochs')\n",
    "plt.xlabel('Loss')\n",
    "plt.grid(True)\n",
    "plt.legend()\n",
    "plt.show()"
   ]
  },
  {
   "cell_type": "code",
   "execution_count": 14,
   "metadata": {},
   "outputs": [
    {
     "name": "stdout",
     "output_type": "stream",
     "text": [
      "Model Saved\n"
     ]
    }
   ],
   "source": [
    "'''Saving Model'''\n",
    "model.save('C:/Users/alber/mnist_simple_cnn_10epoch.h5')\n",
    "print('Model Saved')"
   ]
  },
  {
   "cell_type": "code",
   "execution_count": 15,
   "metadata": {},
   "outputs": [
    {
     "name": "stdout",
     "output_type": "stream",
     "text": [
      "Model Loaded\n"
     ]
    }
   ],
   "source": [
    "'''Loading Model'''\n",
    "from keras.models import load_model\n",
    "classifier=load_model('C:/Users/alber/mnist_simple_cnn_10epoch.h5')\n",
    "print('Model Loaded')"
   ]
  },
  {
   "cell_type": "code",
   "execution_count": 16,
   "metadata": {},
   "outputs": [],
   "source": [
    "'''Testing Model'''\n",
    "def draw_test(name, pred, input_im):\n",
    "    BLACK= [0,0,0]\n",
    "    expanded_image=cv2.copyMakeBorder(input_im, 0,0,0, imageL.shape[0], cv2.BORDER_CONSTANT, value=BLACK)\n",
    "    expanded_image=cv2.cvtColor(expanded_image, cv2.COLOR_GRAY2BGR)\n",
    "    cv2.putText(expanded_image, str(pred), (152,70), cv2.FONT_HERSHEY_COMPLEX_SMALL, 4, (0,255,0), 2)\n",
    "    cv2.imshow(name, expanded_image)\n",
    "    \n",
    "for i in range (0, 10):\n",
    "    rand=np.random.randint(0, len(x_test))\n",
    "    input_im=x_test[rand]\n",
    "    \n",
    "\n",
    "    imageL=cv2.resize(input_im, None, fx=4, fy=4, interpolation=cv2.INTER_CUBIC)\n",
    "    input_im=input_im.reshape(1,28,28,1)\n",
    "    \n",
    "    res= str(classifier.predict_classes(input_im,1, verbose=0)[0])\n",
    "    \n",
    "    draw_test(\"Prediction\", res, imageL)\n",
    "    cv2.waitKey(0)\n",
    "    \n",
    "cv2.destroyAllWindows()"
   ]
  },
  {
   "cell_type": "code",
   "execution_count": null,
   "metadata": {},
   "outputs": [],
   "source": []
  }
 ],
 "metadata": {
  "kernelspec": {
   "display_name": "Python 3",
   "language": "python",
   "name": "python3"
  },
  "language_info": {
   "codemirror_mode": {
    "name": "ipython",
    "version": 3
   },
   "file_extension": ".py",
   "mimetype": "text/x-python",
   "name": "python",
   "nbconvert_exporter": "python",
   "pygments_lexer": "ipython3",
   "version": "3.7.6"
  }
 },
 "nbformat": 4,
 "nbformat_minor": 4
}
